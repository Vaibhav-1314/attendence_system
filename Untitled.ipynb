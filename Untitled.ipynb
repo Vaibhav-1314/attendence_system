{
 "cells": [
  {
   "cell_type": "code",
   "execution_count": 1,
   "id": "2a6298ec",
   "metadata": {},
   "outputs": [],
   "source": [
    "import cv2\n",
    "import os\n",
    "import shutil\n",
    "import json\n",
    "import face_recognition\n",
    "import numpy as np\n",
    "import csv\n",
    "from datetime import datetime"
   ]
  },
  {
   "cell_type": "code",
   "execution_count": 2,
   "id": "1e80c112",
   "metadata": {},
   "outputs": [],
   "source": [
    "class_dictionary = {}\n",
    "\n",
    "dataset = \"dataset\"\n",
    "\n",
    "artifacts = \"artifacts\""
   ]
  },
  {
   "cell_type": "code",
   "execution_count": null,
   "id": "290166b1",
   "metadata": {},
   "outputs": [],
   "source": [
    "def capture(n):\n",
    "    global class_dictionary\n",
    "\n",
    "    cam = cv2.VideoCapture(0)\n",
    "\n",
    "    dataset_folder = dataset\n",
    "\n",
    "    for i in range(n):\n",
    "        id = input(\"Enter your id: \")\n",
    "        name = input(\"Enter your name: \")\n",
    "\n",
    "        class_dictionary[id] = name\n",
    "\n",
    "        while True:\n",
    "            result, image = cam.read()\n",
    "\n",
    "            if not result:\n",
    "                print(\"Failed to capture\")\n",
    "                break\n",
    "\n",
    "            cv2.imshow(\"Do Not Move!\", image)\n",
    "\n",
    "            k = cv2.waitKey(1)\n",
    "\n",
    "            if k%256 == 27:\n",
    "                print(\"Closing the app\")\n",
    "                break\n",
    "            elif k%256 == 32:\n",
    "                image_name = name + \".jpg\"\n",
    "                image_path = dataset_folder + \"/\" + image_name\n",
    "                cv2.imwrite(image_path, image)\n",
    "                print(\"image taken\")\n",
    "\n",
    "    cam.release()"
   ]
  },
  {
   "cell_type": "code",
   "execution_count": null,
   "id": "40a0a362",
   "metadata": {},
   "outputs": [],
   "source": [
    "n = int(input(\"Enter no of students: \"))\n",
    "\n",
    "capture(n)\n",
    "\n",
    "if os.path.exists(artifacts):\n",
    "    shutil.rmtree(artifacts)\n",
    "os.mkdir(artifacts)\n",
    "\n",
    "class_dict_path = artifacts + \"/\" + \"class_dictionary.json\"\n",
    "with open(class_dict_path, 'w') as f:\n",
    "    f.write(json.dumps(class_dictionary))"
   ]
  },
  {
   "cell_type": "code",
   "execution_count": 3,
   "id": "e0e19359",
   "metadata": {},
   "outputs": [],
   "source": [
    "__NAME_TO_ID = {}\n",
    "\n",
    "__ID_TO_NAME = {}\n",
    "\n",
    "NAMES = []"
   ]
  },
  {
   "cell_type": "code",
   "execution_count": 4,
   "id": "98c0e546",
   "metadata": {},
   "outputs": [],
   "source": [
    "Video_Capture = cv2.VideoCapture(0)"
   ]
  },
  {
   "cell_type": "code",
   "execution_count": 9,
   "id": "328a7df9",
   "metadata": {},
   "outputs": [],
   "source": [
    "def Load_Artifacts():\n",
    "\n",
    "    __NAME_TO_ID\n",
    "    global __ID_TO_NAME\n",
    "    global NAMES\n",
    "\n",
    "    path = artifacts + \"/\" + \"class_dictionary.json\"\n",
    "    with open(path, \"r\") as f:\n",
    "        __ID_TO_NAME = json.load(f)\n",
    "        __NAME_TO_ID = {v:k for k,v in __ID_TO_NAME.items()}\n",
    "        NAMES = [k for k,v in __NAME_TO_ID.items()]\n"
   ]
  },
  {
   "cell_type": "code",
   "execution_count": 10,
   "id": "efb645eb",
   "metadata": {},
   "outputs": [
    {
     "name": "stdout",
     "output_type": "stream",
     "text": [
      "{}\n",
      "{}\n",
      "[]\n"
     ]
    }
   ],
   "source": [
    "print(__NAME_TO_ID)\n",
    "print(__ID_TO_NAME)\n",
    "print(NAMES)"
   ]
  },
  {
   "cell_type": "code",
   "execution_count": null,
   "id": "67c902d2",
   "metadata": {},
   "outputs": [],
   "source": [
    "def Find_Encodings(images):\n",
    "    encodeList = []\n",
    "    for img in images:\n",
    "        img = cv2.cvtColor(img, cv2.COLOR_BGR2RGB)\n",
    "        encoded_face = face_recognition.face_encodings(img)[0]\n",
    "        encodeList.append(encoded_face)\n",
    "    return encodeList"
   ]
  },
  {
   "cell_type": "code",
   "execution_count": 10,
   "id": "07050c18",
   "metadata": {},
   "outputs": [],
   "source": [
    "Load_Artifacts()"
   ]
  },
  {
   "cell_type": "code",
   "execution_count": 12,
   "id": "d89be458",
   "metadata": {},
   "outputs": [
    {
     "name": "stdout",
     "output_type": "stream",
     "text": [
      "{'Vaibhav': '96', 'Ayush': '83'}\n"
     ]
    }
   ],
   "source": [
    "Images = []\n",
    "for entry in os.scandir(Dataset):\n",
    "    img = cv2.imread(entry.path)\n",
    "    Images.append(img)"
   ]
  },
  {
   "cell_type": "code",
   "execution_count": 15,
   "id": "d61eee4b",
   "metadata": {
    "scrolled": false
   },
   "outputs": [
    {
     "data": {
      "text/plain": [
       "[array([[[121, 124, 132],\n",
       "         [120, 123, 131],\n",
       "         [117, 123, 128],\n",
       "         ...,\n",
       "         [ 81,  90,  87],\n",
       "         [ 81,  90,  87],\n",
       "         [ 82,  91,  88]],\n",
       " \n",
       "        [[121, 124, 132],\n",
       "         [120, 123, 131],\n",
       "         [118, 124, 129],\n",
       "         ...,\n",
       "         [ 81,  90,  87],\n",
       "         [ 81,  90,  87],\n",
       "         [ 82,  91,  88]],\n",
       " \n",
       "        [[120, 126, 131],\n",
       "         [119, 125, 130],\n",
       "         [119, 125, 130],\n",
       "         ...,\n",
       "         [ 80,  88,  87],\n",
       "         [ 80,  88,  87],\n",
       "         [ 80,  88,  87]],\n",
       " \n",
       "        ...,\n",
       " \n",
       "        [[  7,   9,   9],\n",
       "         [  9,  11,  11],\n",
       "         [ 11,  11,  11],\n",
       "         ...,\n",
       "         [ 73,  68,  53],\n",
       "         [ 72,  69,  54],\n",
       "         [ 70,  70,  52]],\n",
       " \n",
       "        [[  9,  11,  12],\n",
       "         [  9,  11,  12],\n",
       "         [ 10,   9,  11],\n",
       "         ...,\n",
       "         [ 76,  71,  50],\n",
       "         [ 72,  71,  50],\n",
       "         [ 70,  73,  48]],\n",
       " \n",
       "        [[ 11,  13,  14],\n",
       "         [  9,  11,  12],\n",
       "         [  9,   8,  10],\n",
       "         ...,\n",
       "         [ 77,  73,  49],\n",
       "         [ 73,  74,  48],\n",
       "         [ 71,  74,  48]]], dtype=uint8),\n",
       " array([[[120, 132, 136],\n",
       "         [118, 130, 134],\n",
       "         [114, 129, 131],\n",
       "         ...,\n",
       "         [ 86,  90,  71],\n",
       "         [ 87,  90,  74],\n",
       "         [ 89,  92,  76]],\n",
       " \n",
       "        [[118, 130, 134],\n",
       "         [116, 129, 131],\n",
       "         [113, 128, 130],\n",
       "         ...,\n",
       "         [ 87,  90,  74],\n",
       "         [ 88,  91,  76],\n",
       "         [ 89,  92,  77]],\n",
       " \n",
       "        [[114, 129, 131],\n",
       "         [114, 129, 131],\n",
       "         [113, 128, 130],\n",
       "         ...,\n",
       "         [ 89,  92,  77],\n",
       "         [ 87,  91,  79],\n",
       "         [ 88,  92,  80]],\n",
       " \n",
       "        ...,\n",
       " \n",
       "        [[ 20,   9,  12],\n",
       "         [ 20,   9,  11],\n",
       "         [ 17,   9,  10],\n",
       "         ...,\n",
       "         [ 66,  73,  66],\n",
       "         [ 65,  72,  65],\n",
       "         [ 65,  72,  65]],\n",
       " \n",
       "        [[ 20,   9,  11],\n",
       "         [ 19,   8,  10],\n",
       "         [ 18,   7,   9],\n",
       "         ...,\n",
       "         [ 64,  71,  66],\n",
       "         [ 65,  72,  67],\n",
       "         [ 65,  72,  67]],\n",
       " \n",
       "        [[ 21,  10,  12],\n",
       "         [ 20,   9,  11],\n",
       "         [ 19,   9,   9],\n",
       "         ...,\n",
       "         [ 65,  72,  69],\n",
       "         [ 65,  72,  67],\n",
       "         [ 66,  73,  68]]], dtype=uint8)]"
      ]
     },
     "execution_count": 15,
     "metadata": {},
     "output_type": "execute_result"
    }
   ],
   "source": [
    "Images"
   ]
  },
  {
   "cell_type": "code",
   "execution_count": 9,
   "id": "82ba3fb5",
   "metadata": {},
   "outputs": [],
   "source": [
    "Encoded_Images = Find_Encodings(Images)"
   ]
  },
  {
   "cell_type": "code",
   "execution_count": 14,
   "id": "e32f306e",
   "metadata": {},
   "outputs": [],
   "source": [
    "face_locations = []\n",
    "face_encodings = []\n",
    "face_names = []\n",
    "present = NAMES.copy()"
   ]
  },
  {
   "cell_type": "code",
   "execution_count": null,
   "id": "b5c00717",
   "metadata": {},
   "outputs": [],
   "source": [
    "now = datetime.now()\n",
    "current_date = now.strftime(\"%Y-%m-%d\")\n",
    "f = open(current_date + \".csv\", \"w+\", newline = '')\n",
    "lnwriter = csv.writer(f)"
   ]
  },
  {
   "cell_type": "code",
   "execution_count": null,
   "id": "e98e3811",
   "metadata": {},
   "outputs": [],
   "source": [
    "while True:\n",
    "        success, img = Video_Capture.read()\n",
    "        imgS = cv2.resize(img, (0,0), None, 0.25,0.25)\n",
    "        imgS = cv2.cvtColor(imgS, cv2.COLOR_BGR2RGB)\n",
    "        if success:\n",
    "            face_locations = face_recognition.face_locations(imgS)\n",
    "            face_encodings = face_recognition.face_encodings(imgS, face_locations)\n",
    "            for face_encoding in face_encodings:\n",
    "                matches = face_recognition.compare_faces(Encoded_Images, face_encoding)\n",
    "                name = \"\"\n",
    "                face_distance = face_recognition.face_distance(Encoded_Images, face_encoding)\n",
    "                matchIndex = np.argmin(face_distance)\n",
    "                if matches[matchIndex]:\n",
    "                    name = NAMES[matchIndex]\n",
    "                \n",
    "                face_names.append(name)\n",
    "                if name in NAMES:\n",
    "                    if name in present:\n",
    "                        present.remove(name)\n",
    "                        now = datetime.now()\n",
    "                        current_time = now.strftime(\"%H-%M-%S\")\n",
    "                        lnwriter.writerow([name, current_time])\n",
    "        \n",
    "        cv2.imshow(\"attendence syatem\", img)\n",
    "        k = cv2.waitKey(1)\n",
    "        if k%256 == 27:\n",
    "            print(\"Closing the app\")\n",
    "            break"
   ]
  },
  {
   "cell_type": "code",
   "execution_count": null,
   "id": "0bd5ded7",
   "metadata": {},
   "outputs": [],
   "source": [
    "Video_Capture.release()\n",
    "cv2.destroyAllWindows()\n",
    "f.close()"
   ]
  }
 ],
 "metadata": {
  "kernelspec": {
   "display_name": "Python 3 (ipykernel)",
   "language": "python",
   "name": "python3"
  },
  "language_info": {
   "codemirror_mode": {
    "name": "ipython",
    "version": 3
   },
   "file_extension": ".py",
   "mimetype": "text/x-python",
   "name": "python",
   "nbconvert_exporter": "python",
   "pygments_lexer": "ipython3",
   "version": "3.8.10"
  }
 },
 "nbformat": 4,
 "nbformat_minor": 5
}
